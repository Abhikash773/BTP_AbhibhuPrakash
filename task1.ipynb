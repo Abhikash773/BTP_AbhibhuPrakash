{
 "cells": [
  {
   "attachments": {},
   "cell_type": "markdown",
   "metadata": {},
   "source": [
    "## Task 1\n",
    "# Initializing an image of dimension 512*512 pixels with random color values"
   ]
  },
  {
   "cell_type": "code",
   "execution_count": null,
   "metadata": {},
   "outputs": [],
   "source": [
    "import cv2\n",
    "import numpy as np\n",
    "\n",
    "# Create a black image\n",
    "img = np.zeros((512, 512, 3), np.uint8)\n",
    "\n",
    "# Fill image with random colors\n",
    "for i in range(512):\n",
    "    for j in range(512):\n",
    "        img[i,j] = (np.random.randint(0,255), np.random.randint(0,255), np.random.randint(0,255))\n",
    "\n",
    "# Save the image\n",
    "cv2.imwrite(\"random_pixels.jpg\", img)"
   ]
  }
 ],
 "metadata": {
  "language_info": {
   "name": "python"
  },
  "orig_nbformat": 4
 },
 "nbformat": 4,
 "nbformat_minor": 2
}
